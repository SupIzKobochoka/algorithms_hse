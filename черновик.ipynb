{
 "cells": [
  {
   "cell_type": "code",
   "execution_count": null,
   "id": "8a9a7ee3",
   "metadata": {},
   "outputs": [],
   "source": [
    "class MyDict:\n",
    "    '''\n",
    "    По хорошему нужно все гиперпараметры (по check, начальный размер и прочее перенести в self)\n",
    "    '''\n",
    "    def __init__(self):\n",
    "        '''\n",
    "        В arr будет храниться пара ключ-значение\n",
    "        При коллизии будет в первую непустую ячейку класться \n",
    "        '''\n",
    "        self.arr_max_len = 10\n",
    "        self.arr = [[None, None] for _ in range(self.arr_max_len)]\n",
    "        self.keys = set()\n",
    "        self.filled_share_for_resize = 1/2\n",
    "        self.resize_size_scale = 2\n",
    "\n",
    "    def _find_key(self, key, index: int) -> int:\n",
    "        '''\n",
    "        Идёт по self.arr от index до тех пор пока не найдет key\n",
    "        Возвращает index найденного значения\n",
    "        Нет защиты на бесконечный while\n",
    "        '''\n",
    "        while self.arr[index][0] != key:\n",
    "            if index+1 >= self.arr_max_len:\n",
    "                index=0\n",
    "            else:\n",
    "                index += 1\n",
    "        return index\n",
    "\n",
    "    def _get_index(self, key, arr_max_len=None) -> int:\n",
    "        '''\n",
    "        Возвращает index, посчитанный через hash\n",
    "        Не учитывает коллизию\n",
    "        '''\n",
    "        if arr_max_len is None: \n",
    "            arr_max_len = self.arr_max_len\n",
    "        return hash(key) % arr_max_len\n",
    "\n",
    "    def _resize(self, new_size: int):\n",
    "        arr = [[None, None] for _ in range(new_size)]\n",
    "        for key in self.keys:\n",
    "            index_old = self._get_index(key)\n",
    "            index_old = self._find_key(key, index_old)\n",
    "            value = self.arr[index_old][1]\n",
    "\n",
    "            index = self._get_index(key, new_size)\n",
    "            while arr[index][0] is not None:\n",
    "                if index+1 >= new_size:\n",
    "                    index = 0\n",
    "                else:\n",
    "                    index += 1\n",
    "            arr[index] = [key, value]\n",
    "        self.arr = arr\n",
    "        self.arr_max_len = new_size\n",
    "\n",
    "    def _check_size(self, ):\n",
    "        if len(self.keys) >= self.arr_max_len * self.filled_share_for_resize:\n",
    "            self._resize(self.arr_max_len * self.resize_size_scale)\n",
    "    \n",
    "    \n",
    "\n",
    "    def __getitem__(self, key):\n",
    "        '''\n",
    "        mydict[key]\n",
    "        '''\n",
    "        if key not in self.keys:\n",
    "            raise KeyError(f'{key} not in keys')\n",
    "        index = self._get_index(key)\n",
    "        index = self._find_key(key, index)\n",
    "        return self.arr[index][1]\n",
    "    \n",
    "    def __setitem__(self, key, value):\n",
    "        '''\n",
    "        mydict[key] = value\n",
    "        '''\n",
    "        index = self._get_index(key)\n",
    "        if key in self.keys:\n",
    "            index = self._find_key(key, index)\n",
    "        else:\n",
    "            index = self._find_key(None, index)\n",
    "            self.keys.add(key)\n",
    "        self.arr[index] = [key, value]\n",
    "        self._check_size()\n",
    "\n",
    "    def __delitem__(self, key):\n",
    "        '''\n",
    "        del mydict[key]\n",
    "        '''\n",
    "        if key not in self.keys:\n",
    "            raise KeyError(f'{key} not in keys')\n",
    "        index = self._get_index(key)\n",
    "        index = self._find_key(key, index)\n",
    "        self.keys.remove(key)\n",
    "\n",
    "        self.arr[index] = [None, None]"
   ]
  },
  {
   "cell_type": "code",
   "execution_count": null,
   "id": "3afca63f",
   "metadata": {},
   "outputs": [
    {
     "data": {
      "text/plain": [
       "80"
      ]
     },
     "execution_count": 22,
     "metadata": {},
     "output_type": "execute_result"
    }
   ],
   "source": [
    "mydict = MyDict()\n",
    "for i in range(9):\n",
    "    mydict[i] = i\n",
    "mydict.arr_max_len"
   ]
  },
  {
   "cell_type": "code",
   "execution_count": 25,
   "id": "608f19ac",
   "metadata": {},
   "outputs": [],
   "source": [
    "del mydict[4]"
   ]
  },
  {
   "cell_type": "code",
   "execution_count": 42,
   "id": "4cfae27d",
   "metadata": {},
   "outputs": [],
   "source": [
    "mydict = MyDict()\n",
    "\n",
    "mydict[1] = 10\n",
    "mydict[11] = 12"
   ]
  },
  {
   "cell_type": "code",
   "execution_count": 44,
   "id": "131f798f",
   "metadata": {},
   "outputs": [
    {
     "data": {
      "text/plain": [
       "10"
      ]
     },
     "execution_count": 44,
     "metadata": {},
     "output_type": "execute_result"
    }
   ],
   "source": [
    "mydict[1]"
   ]
  },
  {
   "cell_type": "code",
   "execution_count": 38,
   "id": "78eaf758",
   "metadata": {},
   "outputs": [
    {
     "data": {
      "text/plain": [
       "True"
      ]
     },
     "execution_count": 38,
     "metadata": {},
     "output_type": "execute_result"
    }
   ],
   "source": [
    "hash(1) % 10 == hash(11) % 10"
   ]
  }
 ],
 "metadata": {
  "kernelspec": {
   "display_name": "Python 3",
   "language": "python",
   "name": "python3"
  },
  "language_info": {
   "codemirror_mode": {
    "name": "ipython",
    "version": 3
   },
   "file_extension": ".py",
   "mimetype": "text/x-python",
   "name": "python",
   "nbconvert_exporter": "python",
   "pygments_lexer": "ipython3",
   "version": "3.11.9"
  }
 },
 "nbformat": 4,
 "nbformat_minor": 5
}
