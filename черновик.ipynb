{
 "cells": [
  {
   "cell_type": "code",
   "execution_count": 12,
   "id": "450c2951",
   "metadata": {},
   "outputs": [],
   "source": [
    "import sys\n",
    "sys.setrecursionlimit(100_000_000)\n",
    "\n",
    "def _partition(li: list, flag_left, flag_right):\n",
    "        if flag_left >= flag_right:\n",
    "            split_index = min(flag_left, flag_right)\n",
    "            return split_index \n",
    "        \n",
    "        element_left = li[flag_left]\n",
    "        support_element = li[flag_right]\n",
    "\n",
    "        if element_left >= support_element:\n",
    "            li[flag_left], li[flag_right-1], li[flag_right] = li[flag_right-1], li[flag_right], li[flag_left]\n",
    "            return _partition(li, flag_left=flag_left, flag_right=flag_right-1)\n",
    "        \n",
    "        else:\n",
    "            return _partition(li, flag_left=flag_left+1, flag_right=flag_right)\n",
    "\n",
    "\n",
    "def quicksearch(arr: list, k: int, index_left=None, index_right=None) -> list:\n",
    "    if not 0 <= k < len(arr)+1:\n",
    "        raise IndexError()\n",
    "\n",
    "    if index_left is None or index_right is None:\n",
    "        index_left = 0\n",
    "        index_right = len(arr) - 1\n",
    "        arr = arr.copy()\n",
    "        k = len(arr) - k  # :)\n",
    "\n",
    "    split_index = _partition(arr, index_left, index_right)\n",
    "\n",
    "    if split_index == k:\n",
    "        return arr[k]\n",
    "    \n",
    "    if split_index > k:\n",
    "        return quicksearch(arr, k, index_left, split_index-1)\n",
    "\n",
    "    else:\n",
    "        return quicksearch(arr, k, split_index+1, index_right)\n",
    "    "
   ]
  },
  {
   "cell_type": "code",
   "execution_count": 18,
   "id": "57dab168",
   "metadata": {},
   "outputs": [],
   "source": [
    "import numpy as np\n",
    "import sys\n",
    "sys.setrecursionlimit(100_000_000)\n",
    "\n",
    "def tests(quicksearch):\n",
    "    rng = np.random.default_rng(42)\n",
    "    for _ in range(100):\n",
    "        k = rng.integers(0, 101)\n",
    "        arr = rng.random(1000).tolist()\n",
    "        answer = sorted(arr, reverse=True)[k]\n",
    "        pred = quicksearch(arr, k=k)\n",
    "\n",
    "        assert answer==pred, f'with \\nrng = np.random.default_rng(42) (attempt={_}) arr = rng.random(1000)\\n got wrong answer'\n",
    "\n",
    "    assert 1 == quicksearch([1], k=1), f'with [1] expected 1 got {quicksearch([1], k=1)}'"
   ]
  },
  {
   "cell_type": "code",
   "execution_count": null,
   "id": "3fabf292",
   "metadata": {},
   "outputs": [
    {
     "ename": "AssertionError",
     "evalue": "with \nrng = np.random.default_rng(42) (attempt=0) arr = rng.random(1000)\n got wrong answer",
     "output_type": "error",
     "traceback": [
      "\u001b[31m---------------------------------------------------------------------------\u001b[39m",
      "\u001b[31mAssertionError\u001b[39m                            Traceback (most recent call last)",
      "\u001b[36mCell\u001b[39m\u001b[36m \u001b[39m\u001b[32mIn[20]\u001b[39m\u001b[32m, line 45\u001b[39m\n\u001b[32m     39\u001b[39m         \u001b[38;5;28;01mreturn\u001b[39;00m quicksearch(arr, k, split_index+\u001b[32m1\u001b[39m, index_right)\n\u001b[32m     42\u001b[39m \u001b[38;5;28;01mif\u001b[39;00m \u001b[34m__name__\u001b[39m == \u001b[33m'\u001b[39m\u001b[33m__main__\u001b[39m\u001b[33m'\u001b[39m:\n\u001b[32m---> \u001b[39m\u001b[32m45\u001b[39m     \u001b[43mtests\u001b[49m\u001b[43m(\u001b[49m\u001b[43mquicksearch\u001b[49m\u001b[43m)\u001b[49m\n",
      "\u001b[36mCell\u001b[39m\u001b[36m \u001b[39m\u001b[32mIn[18]\u001b[39m\u001b[32m, line 13\u001b[39m, in \u001b[36mtests\u001b[39m\u001b[34m(quicksearch)\u001b[39m\n\u001b[32m     10\u001b[39m     answer = \u001b[38;5;28msorted\u001b[39m(arr, reverse=\u001b[38;5;28;01mTrue\u001b[39;00m)[k]\n\u001b[32m     11\u001b[39m     pred = quicksearch(arr, k=k)\n\u001b[32m---> \u001b[39m\u001b[32m13\u001b[39m     \u001b[38;5;28;01massert\u001b[39;00m answer==pred, \u001b[33mf\u001b[39m\u001b[33m'\u001b[39m\u001b[33mwith \u001b[39m\u001b[38;5;130;01m\\n\u001b[39;00m\u001b[33mrng = np.random.default_rng(42) (attempt=\u001b[39m\u001b[38;5;132;01m{\u001b[39;00m_\u001b[38;5;132;01m}\u001b[39;00m\u001b[33m) arr = rng.random(1000)\u001b[39m\u001b[38;5;130;01m\\n\u001b[39;00m\u001b[33m got wrong answer\u001b[39m\u001b[33m'\u001b[39m\n\u001b[32m     15\u001b[39m \u001b[38;5;28;01massert\u001b[39;00m \u001b[32m1\u001b[39m == quicksearch([\u001b[32m1\u001b[39m], k=\u001b[32m1\u001b[39m), \u001b[33mf\u001b[39m\u001b[33m'\u001b[39m\u001b[33mwith [1] expected 1 got \u001b[39m\u001b[38;5;132;01m{\u001b[39;00mquicksearch([\u001b[32m1\u001b[39m],\u001b[38;5;250m \u001b[39mk=\u001b[32m1\u001b[39m)\u001b[38;5;132;01m}\u001b[39;00m\u001b[33m'\u001b[39m\n",
      "\u001b[31mAssertionError\u001b[39m: with \nrng = np.random.default_rng(42) (attempt=0) arr = rng.random(1000)\n got wrong answer"
     ]
    }
   ],
   "source": [
    "import sys\n",
    "sys.setrecursionlimit(100_000_000)\n",
    "\n",
    "def _partition(li: list, flag_left, flag_right):\n",
    "        if flag_left >= flag_right:\n",
    "            split_index = min(flag_left, flag_right)\n",
    "            return split_index \n",
    "        \n",
    "        element_left = li[flag_left]\n",
    "        support_element = li[flag_right]\n",
    "\n",
    "        if element_left >= support_element:\n",
    "            li[flag_left], li[flag_right-1], li[flag_right] = li[flag_right-1], li[flag_right], li[flag_left]\n",
    "            return _partition(li, flag_left=flag_left, flag_right=flag_right-1)\n",
    "        \n",
    "        else:\n",
    "            return _partition(li, flag_left=flag_left+1, flag_right=flag_right)\n",
    "\n",
    "\n",
    "def quicksearch(arr: list, k: int, index_left=None, index_right=None) -> list:\n",
    "    if len(arr) < k:\n",
    "        raise IndexError('k > len(arr)')\n",
    "\n",
    "    if index_left is None or index_right is None:\n",
    "        index_left = 0\n",
    "        index_right = len(arr) - 1\n",
    "        arr = arr.copy()\n",
    "        k = len(arr) - k  # :)\n",
    "\n",
    "    split_index = _partition(arr, index_left, index_right)\n",
    "\n",
    "    if split_index == k:\n",
    "        return arr[k]\n",
    "    \n",
    "    if split_index > k:\n",
    "        return quicksearch(arr, k, index_left, split_index-1)\n",
    "\n",
    "    else:\n",
    "        return quicksearch(arr, k, split_index+1, index_right)"
   ]
  },
  {
   "cell_type": "code",
   "execution_count": 22,
   "id": "3ebec1e4",
   "metadata": {},
   "outputs": [
    {
     "data": {
      "text/plain": [
       "10"
      ]
     },
     "execution_count": 22,
     "metadata": {},
     "output_type": "execute_result"
    }
   ],
   "source": [
    "quicksearch([1,10, 9, 2, 8, 3, 7, 4, 6, 5], k=1)"
   ]
  }
 ],
 "metadata": {
  "kernelspec": {
   "display_name": "Python 3",
   "language": "python",
   "name": "python3"
  },
  "language_info": {
   "codemirror_mode": {
    "name": "ipython",
    "version": 3
   },
   "file_extension": ".py",
   "mimetype": "text/x-python",
   "name": "python",
   "nbconvert_exporter": "python",
   "pygments_lexer": "ipython3",
   "version": "3.11.9"
  }
 },
 "nbformat": 4,
 "nbformat_minor": 5
}
